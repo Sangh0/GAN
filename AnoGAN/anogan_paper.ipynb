{
 "cells": [
  {
   "cell_type": "markdown",
   "id": "39cae5a3",
   "metadata": {},
   "source": [
    "# Ano GAN (Unsupervised Anomaly Detection with GAN)"
   ]
  },
  {
   "cell_type": "markdown",
   "id": "d56d5fd0",
   "metadata": {},
   "source": [
    "## Abstract  \n",
    "- 일반적으로 대부분의 모델들은 라벨링이 되어있는 데이터를 가지고 지도 학습 방식으로 훈련을 진행함.  \n",
    "- 라벨링이 되어있지 않은 경우 일일이 라벨링 작업을 하는 데 많은 시간과 노력을 필요로 하다는 단점이 존재함.  \n",
    "- 그래서 이 논문에서는 이미지 데이터에서 Anomaly를 찾기 위해 라벨링이 필요 없는 비지도 학습을 수행함.  \n",
    "- 이를 Ano GAN이라 정의함.  \n",
    "- Ano GAN은 normal 이미지로만 학습된 DCGAN과 latent space의 mapping을 기반으로 anomaly score를 계산함.  "
   ]
  },
  {
   "cell_type": "markdown",
   "id": "d9426d78",
   "metadata": {},
   "source": [
    "## Introduction  \n",
    "- 본 논문에서 사용된 데이터는 의료 데이터다.  \n",
    "- 의료 데이터의 경우 전체 데이터 중에서 anomaly 데이터의 비율이 굉장히 적음.  \n",
    "- 즉, 데이터 불균형이 굉장히 심함.  \n",
    "- 이러한 데이터를 가지고 지도 학습 방식으로 anomaly detection을 수행하기 위해선 anomaly 데이터가 충분히 많아야 하며 라벨링도 필요함.  \n",
    "- 이는 굉장히 비효율적인 작업임.  \n",
    "- 그래서 비지도 학습 방식인 GAN을 이용해 anomaly detection을 수행함.  \n",
    "- 본 논문의 아이디어를 살펴보자.  \n",
    "- Generator는 latent space $z$로부터 이미지를 생성해낸다.  \n",
    "- normal 데이터로만 학습을 시킨다면 latent space $z$는 normal 데이터의 분포가 형성될 것임.  \n",
    "- 이때 anomaly 데이터가 들어온다면 어떤 부분이 anomaly한 것인지 판단을 할 것이다.  \n",
    "- Ano GAN은 이러한 방식으로 anomaly detection을 수행한다.  "
   ]
  },
  {
   "cell_type": "markdown",
   "id": "090cd561",
   "metadata": {},
   "source": [
    "## Architecture    \n",
    "### DCGAN\n",
    "<img src = \"https://mblogthumb-phinf.pstatic.net/MjAxOTA5MDVfMjQ2/MDAxNTY3Njc3NjMwMTk1.LPzZsZ9wnhnkVXEo9QZYuDHE36Zg_8NqPjg-ga2wsQkg.YGs3MiFHX7rZjsDAs2uVugDKS9p1BbdkKxHql5DzXGgg.PNG.intelliz/dcgan.png?type=w800\">\n",
    "\n",
    "### Ano GAN\n",
    "<img src = \"https://blog.promedius.ai/content/images/2020/10/AnoGAN.png\" width=800>  \n",
    "\n",
    "- Ano GAN에서 Generator와 Discriminator는 DCGAN의 architecture와 동일함.  \n",
    "- 학습 방식 또한 동일함.\n",
    "- 이때 DCGAN은 랜덤 이미지로 학습을 하지만 Ano GAN은 normal한 이미지로만 학습을 해야 한다.   \n",
    "- Ano GAN에서는 latent space $z$를 따로 학습을 시킨다.  \n",
    "- 즉, normal data로만 가지고 훈련한 GAN의 weight들은 그대로 가져온다.  \n",
    "- 그리고 normal image를 잘 나타내는 최적의 $z$값을 찾기 위해 다음과 같은 Loss들을 가지고 훈련을 진행한다.  "
   ]
  },
  {
   "cell_type": "markdown",
   "id": "025b95a2",
   "metadata": {},
   "source": [
    "## Loss  \n",
    "### Residual loss  \n",
    "<img src = \"https://blog.kakaocdn.net/dn/bqusWj/btq8as9T2D4/br6FX3KxIfu4S2lDxBc8lk/img.png\">  \n",
    "\n",
    "- residual loss는 real image와 generator를 통해 생성된 fake image의 차이를 나타낸다.  \n",
    "- residual loss 값이 0에 가까울수록 fake image는 real image와 근사하다는 의미를 가짐.\n",
    "\n",
    "### Discrimination loss  \n",
    "<img src = \"https://blog.kakaocdn.net/dn/ch0ySb/btq8bNytGgY/5Wqpz9yLktflT5WELxHd41/img.png\">   \n",
    "\n",
    "- discrimination loss는 discriminator 모델의 마지막 레이어 출력값이 아닌 중간 레이어의 feature map 출력값을 가지고 계산함.  \n",
    "- 즉, discriminator를 통한 real image의 feature와 generator를 통해 생성된 fake image의 feature 차이를 나타냄.\n",
    "\n",
    "### Anomaly loss  \n",
    "<img src = \"https://blog.kakaocdn.net/dn/cXw3u4/btq8a6ZAiKw/3cpTMWiRPB5ygQVzUkqKE1/img.png\">  \n",
    "\n",
    "- 위의 residual loss와 discrimination loss의 가중치된 합으로 정의함.  \n",
    "- 논문에서는 $\\lambda$를 0.1이라고 놓고 사용함.    \n",
    " \n",
    "### Anomaly score  \n",
    "<img src = \"https://blog.kakaocdn.net/dn/xk1A3/btq79jF7u93/9g4HR9KYWkUcaQnOKSXHKk/img.png\">  \n",
    "\n",
    "- 여기서 $R(\\textbf{x})$는 residual loss, $D(\\textbf{x})$는 discrimination loss와 구하는 방법이 같음.  \n",
    "- 즉, anomaly loss를 anomaly score로 사용한다."
   ]
  },
  {
   "cell_type": "markdown",
   "id": "ed23e658",
   "metadata": {},
   "source": [
    "# 요약  \n",
    "- step1. normal data로만 가지고 GAN을 훈련시킨다.  \n",
    "- step2. Generator와 Discriminator의 weight들은 유지한 채 normal image를 잘 나타낼 수 있도록 latent space $z$를 훈련시킨다.  \n",
    "- step3. 이때 사용되는 loss는 residual loss, discrimination loss, anomaly loss이며 이들을 가지고 업데이트를 진행한다.  \n",
    "- step4. 최종적으로 anomaly한 부분을 나타내며 anomaly score의 threshold를 설정해 threshold보다 높은 score는 anomaly라고 판단을 한다."
   ]
  }
 ],
 "metadata": {
  "kernelspec": {
   "display_name": "Python 3 (ipykernel)",
   "language": "python",
   "name": "python3"
  },
  "language_info": {
   "codemirror_mode": {
    "name": "ipython",
    "version": 3
   },
   "file_extension": ".py",
   "mimetype": "text/x-python",
   "name": "python",
   "nbconvert_exporter": "python",
   "pygments_lexer": "ipython3",
   "version": "3.8.12"
  }
 },
 "nbformat": 4,
 "nbformat_minor": 5
}
